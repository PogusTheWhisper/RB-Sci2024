{
 "cells": [
  {
   "cell_type": "code",
   "execution_count": 5,
   "metadata": {},
   "outputs": [],
   "source": [
    "from openai import OpenAI"
   ]
  },
  {
   "cell_type": "code",
   "execution_count": 22,
   "metadata": {},
   "outputs": [],
   "source": [
    "def call_llm(TYPHOON_API_KEY, model, max_tokens, temperature, top_p, user_input):\n",
    "\n",
    "\n",
    "    client = OpenAI(\n",
    "        api_key=TYPHOON_API_KEY,\n",
    "        base_url=\"https://api.opentyphoon.ai/v1\",\n",
    "    )\n",
    "    try:\n",
    "\n",
    "        stream = client.chat.completions.create(\n",
    "            model=model,\n",
    "            messages=[\n",
    "                {\n",
    "                    \"role\": \"system\",\n",
    "                    \"content\": \"ขอสูตรไก่ย่างหน่อย\",\n",
    "                },\n",
    "                {\n",
    "                    \"role\": \"user\",\n",
    "                    \"content\": user_input,\n",
    "                }\n",
    "            ],\n",
    "            max_tokens=max_tokens,\n",
    "            temperature=temperature,\n",
    "            top_p=top_p,\n",
    "            stream=True,\n",
    "        )\n",
    "    except:\n",
    "        return 'API KEY ERROR'\n",
    "\n",
    "    else:\n",
    "        respond=[]\n",
    "        for chunk in stream:\n",
    "            if hasattr(chunk, 'choices') and len(chunk.choices) > 0:\n",
    "                choice = chunk.choices[0]\n",
    "                if hasattr(choice, 'delta') and hasattr(choice.delta, 'content'):\n",
    "                    if choice.delta.content is not None:\n",
    "                        respond.append(choice.delta.content)\n",
    "\n",
    "        return \"\".join(respond)"
   ]
  },
  {
   "cell_type": "code",
   "execution_count": 23,
   "metadata": {},
   "outputs": [],
   "source": [
    "typhoon_api_key='sk-psIjnhS63MFqDJzmrCnY6iLPr3iZ6wAXP57La0dvUcNoE9dc'\n",
    "max_token='300'\n",
    "temperature=0.9\n",
    "top_p=0.6\n",
    "prompt='hi'"
   ]
  },
  {
   "cell_type": "code",
   "execution_count": 24,
   "metadata": {},
   "outputs": [
    {
     "name": "stdout",
     "output_type": "stream",
     "text": [
      "สวัสดีครับ! ขอสูตรไก่ย่างแบบไทยๆ มั้ยครับ?\n"
     ]
    }
   ],
   "source": [
    "print(call_llm(typhoon_api_key, \"typhoon-v1.5x-70b-instruct\", max_token, temperature, top_p, prompt))"
   ]
  },
  {
   "cell_type": "code",
   "execution_count": 27,
   "metadata": {},
   "outputs": [
    {
     "name": "stdout",
     "output_type": "stream",
     "text": [
      "Hi! How can I help you today?\n"
     ]
    }
   ],
   "source": [
    "print(call_llm(typhoon_api_key, \"typhoon-instruct\", max_token, temperature, top_p, prompt))"
   ]
  },
  {
   "cell_type": "code",
   "execution_count": null,
   "metadata": {},
   "outputs": [],
   "source": []
  }
 ],
 "metadata": {
  "kernelspec": {
   "display_name": ".venv",
   "language": "python",
   "name": "python3"
  },
  "language_info": {
   "codemirror_mode": {
    "name": "ipython",
    "version": 3
   },
   "file_extension": ".py",
   "mimetype": "text/x-python",
   "name": "python",
   "nbconvert_exporter": "python",
   "pygments_lexer": "ipython3",
   "version": "3.11.9"
  }
 },
 "nbformat": 4,
 "nbformat_minor": 2
}
